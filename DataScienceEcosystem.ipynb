{
 "cells": [
  {
   "cell_type": "markdown",
   "id": "c3c895c7-39d5-4b96-8ed3-1b1f5eb08b7a",
   "metadata": {},
   "source": [
    "# Data Science Tools and Ecosystem"
   ]
  },
  {
   "cell_type": "markdown",
   "id": "2a689b6d-7e88-46a5-9e1c-7313e3592818",
   "metadata": {},
   "source": [
    "In this notebook, Data Science Tools and Ecosystem are summarized"
   ]
  },
  {
   "cell_type": "markdown",
   "id": "a8806d43-c394-434a-9535-60f4e877b71c",
   "metadata": {},
   "source": [
    "Some of the popular languages that Data Scientists use are:\n",
    "1. Python\n",
    "2. R\n",
    "3. Julia\n"
   ]
  },
  {
   "cell_type": "markdown",
   "id": "8986962b-d0ae-4c03-89a5-32a96e8bfe99",
   "metadata": {},
   "source": [
    "Some of the commonly used libraries by Data Scientists include:\n",
    "1. Pandas\n",
    "2. Mathplotlib\n",
    "3. Seaborn"
   ]
  },
  {
   "cell_type": "markdown",
   "id": "2441a374-b38a-4589-b887-a90caa3df179",
   "metadata": {
    "tags": []
   },
   "source": [
    "| Data Science Tools |\n",
    "|-\n",
    "| Jupyter Notebook |\n",
    "| RStudio |\n",
    "| Spyder |"
   ]
  },
  {
   "cell_type": "markdown",
   "id": "13f68eba-a060-40aa-a6ad-11a9d4a44b35",
   "metadata": {},
   "source": [
    "### Below are a few examples of evaluating arithmetic expressions in Python.\n",
    "\n",
    "| Expression | Result |\n",
    "|---|---|\n",
    "| 1 + 1 | 2 |\n",
    "| 2 * 3 | 6 |\n",
    "| 4 / 2 | 2 |\n",
    "| 5 - 3 | 2 |\n"
   ]
  },
  {
   "cell_type": "code",
   "execution_count": 1,
   "id": "7918533b-2124-4924-98dd-1c6beaa56f8f",
   "metadata": {
    "tags": []
   },
   "outputs": [
    {
     "data": {
      "text/plain": [
       "17"
      ]
     },
     "execution_count": 1,
     "metadata": {},
     "output_type": "execute_result"
    }
   ],
   "source": [
    "#This a simple arithmetic expression to mutiply then add integers.\n",
    "(3*4)+5"
   ]
  },
  {
   "cell_type": "code",
   "execution_count": 2,
   "id": "7593d65d-8666-4dc6-aca9-98cbb283a6c4",
   "metadata": {
    "tags": []
   },
   "outputs": [
    {
     "data": {
      "text/plain": [
       "3.3333333333333335"
      ]
     },
     "execution_count": 2,
     "metadata": {},
     "output_type": "execute_result"
    }
   ],
   "source": [
    "200 / 60"
   ]
  },
  {
   "cell_type": "code",
   "execution_count": 3,
   "id": "91fff53d-c03e-4562-922a-923bd82161b5",
   "metadata": {
    "tags": []
   },
   "outputs": [
    {
     "name": "stdout",
     "output_type": "stream",
     "text": [
      "3\n"
     ]
    }
   ],
   "source": [
    "# Define a variable called minutes and assign it the value 200\n",
    "\n",
    "minutes = 200\n",
    "\n",
    "# Calculate the number of hours in minutes by dividing minutes by 60\n",
    "\n",
    "hours = minutes // 60\n",
    "\n",
    "print(hours)"
   ]
  },
  {
   "cell_type": "markdown",
   "id": "beddb7f5-677c-4212-900a-0a4860309eba",
   "metadata": {},
   "source": [
    "**objectives:**\n",
    "\n",
    "* List popular Languages for Data Science\n",
    "* Discuss the benefits of using Jupyter Notebooks\n",
    "* Explain the difference between Code and Markdown cells\n",
    "* Create a simple arithmetic expression in Python\n",
    "* Convert minutes to hours"
   ]
  },
  {
   "cell_type": "code",
   "execution_count": null,
   "id": "ca2a7f41-acc0-4d44-be9f-0306c49b5897",
   "metadata": {},
   "outputs": [],
   "source": [
    "## Author\n",
    "Rimants Sprukulis"
   ]
  }
 ],
 "metadata": {
  "kernelspec": {
   "display_name": "Python",
   "language": "python",
   "name": "conda-env-python-py"
  },
  "language_info": {
   "codemirror_mode": {
    "name": "ipython",
    "version": 3
   },
   "file_extension": ".py",
   "mimetype": "text/x-python",
   "name": "python",
   "nbconvert_exporter": "python",
   "pygments_lexer": "ipython3",
   "version": "3.7.12"
  }
 },
 "nbformat": 4,
 "nbformat_minor": 5
}
